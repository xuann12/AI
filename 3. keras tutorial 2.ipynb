{
  "nbformat": 4,
  "nbformat_minor": 0,
  "metadata": {
    "kernelspec": {
      "display_name": "Python 3",
      "language": "python",
      "name": "python3"
    },
    "language_info": {
      "codemirror_mode": {
        "name": "ipython",
        "version": 3
      },
      "file_extension": ".py",
      "mimetype": "text/x-python",
      "name": "python",
      "nbconvert_exporter": "python",
      "pygments_lexer": "ipython3",
      "version": "3.7.6"
    },
    "colab": {
      "name": "Gradient descent.ipynb",
      "provenance": []
    }
  },
  "cells": [
    {
      "cell_type": "code",
      "metadata": {
        "id": "chB0696Z7Icz",
        "colab_type": "code",
        "outputId": "b032bbe9-ffb5-4249-fd14-9b240dd6086d",
        "colab": {
          "base_uri": "https://localhost:8080/",
          "height": 722
        }
      },
      "source": [
        "import keras\n",
        "from keras.models import Sequential\n",
        "from keras.layers import Dense, Dropout, Activation\n",
        "from keras.optimizers import SGD\n",
        "\n",
        "# Generate dummy data\n",
        "import numpy as np\n",
        "x_train = np.random.random((1000, 10))\n",
        "y_train = keras.utils.to_categorical(np.random.randint(10, size=(1000, 1)), num_classes=10)\n",
        "x_test = np.random.random((100, 10))\n",
        "y_test = keras.utils.to_categorical(np.random.randint(10, size=(100, 1)), num_classes=10)\n",
        "\n",
        "model = Sequential()\n",
        "model.add(Dense(64, activation='relu', input_dim=10))\n",
        "model.add(Dense(64, activation='relu'))\n",
        "model.add(Dense(10, activation='softmax'))\n",
        "sgd = SGD(lr=0.01, decay=1e-6, momentum=0.9, nesterov=True)\n",
        "model.compile(loss='categorical_crossentropy', optimizer=sgd, metrics=['accuracy'])\n",
        "\n",
        "model.fit(x_train, y_train, epochs=20, batch_size=128)\n",
        "score = model.evaluate(x_test, y_test, batch_size=128)\n",
        "print(score)"
      ],
      "execution_count": 4,
      "outputs": [
        {
          "output_type": "stream",
          "text": [
            "Epoch 1/20\n",
            "1000/1000 [==============================] - 0s 67us/step - loss: 2.3194 - accuracy: 0.0960\n",
            "Epoch 2/20\n",
            "1000/1000 [==============================] - 0s 13us/step - loss: 2.3120 - accuracy: 0.0960\n",
            "Epoch 3/20\n",
            "1000/1000 [==============================] - 0s 12us/step - loss: 2.3048 - accuracy: 0.0930\n",
            "Epoch 4/20\n",
            "1000/1000 [==============================] - 0s 12us/step - loss: 2.3019 - accuracy: 0.1180\n",
            "Epoch 5/20\n",
            "1000/1000 [==============================] - 0s 13us/step - loss: 2.2999 - accuracy: 0.1130\n",
            "Epoch 6/20\n",
            "1000/1000 [==============================] - 0s 12us/step - loss: 2.2992 - accuracy: 0.1090\n",
            "Epoch 7/20\n",
            "1000/1000 [==============================] - 0s 13us/step - loss: 2.2983 - accuracy: 0.1090\n",
            "Epoch 8/20\n",
            "1000/1000 [==============================] - 0s 15us/step - loss: 2.2975 - accuracy: 0.1120\n",
            "Epoch 9/20\n",
            "1000/1000 [==============================] - 0s 13us/step - loss: 2.2969 - accuracy: 0.1200\n",
            "Epoch 10/20\n",
            "1000/1000 [==============================] - 0s 13us/step - loss: 2.2962 - accuracy: 0.1220\n",
            "Epoch 11/20\n",
            "1000/1000 [==============================] - 0s 12us/step - loss: 2.2955 - accuracy: 0.1190\n",
            "Epoch 12/20\n",
            "1000/1000 [==============================] - 0s 12us/step - loss: 2.2949 - accuracy: 0.1220\n",
            "Epoch 13/20\n",
            "1000/1000 [==============================] - 0s 14us/step - loss: 2.2942 - accuracy: 0.1190\n",
            "Epoch 14/20\n",
            "1000/1000 [==============================] - 0s 13us/step - loss: 2.2935 - accuracy: 0.1270\n",
            "Epoch 15/20\n",
            "1000/1000 [==============================] - 0s 12us/step - loss: 2.2929 - accuracy: 0.1260\n",
            "Epoch 16/20\n",
            "1000/1000 [==============================] - 0s 12us/step - loss: 2.2922 - accuracy: 0.1300\n",
            "Epoch 17/20\n",
            "1000/1000 [==============================] - 0s 13us/step - loss: 2.2917 - accuracy: 0.1290\n",
            "Epoch 18/20\n",
            "1000/1000 [==============================] - 0s 13us/step - loss: 2.2911 - accuracy: 0.1310\n",
            "Epoch 19/20\n",
            "1000/1000 [==============================] - 0s 13us/step - loss: 2.2905 - accuracy: 0.1350\n",
            "Epoch 20/20\n",
            "1000/1000 [==============================] - 0s 13us/step - loss: 2.2903 - accuracy: 0.1300\n",
            "100/100 [==============================] - 0s 153us/step\n",
            "[2.3059279918670654, 0.09000000357627869]\n"
          ],
          "name": "stdout"
        }
      ]
    },
    {
      "cell_type": "code",
      "metadata": {
        "id": "ZSNjiPBm7Idc",
        "colab_type": "code",
        "colab": {}
      },
      "source": [
        ""
      ],
      "execution_count": 0,
      "outputs": []
    },
    {
      "cell_type": "code",
      "metadata": {
        "id": "jbO_Cr247Idh",
        "colab_type": "code",
        "colab": {}
      },
      "source": [
        ""
      ],
      "execution_count": 0,
      "outputs": []
    },
    {
      "cell_type": "code",
      "metadata": {
        "id": "7tV5CceB7Idm",
        "colab_type": "code",
        "colab": {}
      },
      "source": [
        ""
      ],
      "execution_count": 0,
      "outputs": []
    }
  ]
}