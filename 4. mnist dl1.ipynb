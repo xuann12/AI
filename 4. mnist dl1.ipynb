{
  "nbformat": 4,
  "nbformat_minor": 0,
  "metadata": {
    "kernelspec": {
      "display_name": "Python 3",
      "language": "python",
      "name": "python3"
    },
    "language_info": {
      "codemirror_mode": {
        "name": "ipython",
        "version": 3
      },
      "file_extension": ".py",
      "mimetype": "text/x-python",
      "name": "python",
      "nbconvert_exporter": "python",
      "pygments_lexer": "ipython3",
      "version": "3.7.6"
    },
    "colab": {
      "name": "Gradient descent.ipynb",
      "provenance": []
    }
  },
  "cells": [
    {
      "cell_type": "code",
      "metadata": {
        "id": "chB0696Z7Icz",
        "colab_type": "code",
        "outputId": "e604a32e-8b2b-430b-86af-9541570fd7e7",
        "colab": {
          "base_uri": "https://localhost:8080/",
          "height": 252
        }
      },
      "source": [
        "import keras\n",
        "from keras.models import Sequential   #引入Sequential函式\n",
        "from keras.layers import Dense, Dropout, Flatten\n",
        "\n",
        "model = Sequential()  #定義模型\n",
        "model.add(Flatten())\n",
        "model.add(Dense(512, activation='relu'))  #Dense：全連接層 #512是輸出的組數 #設定激活層並採用relu\n",
        "model.add(Dropout(0.2))\n",
        "model.add(Dense(10, activation='softmax'))  #10是輸出的組數\n",
        "model.compile(optimizer='adam', loss='sparse_categorical_crossentropy', metrics=['accuracy'])\n",
        "\n",
        "import tensorflow as tf\n",
        "mnist = tf.keras.datasets.mnist\n",
        "(x_train, y_train),(x_test, y_test) = mnist.load_data()\n",
        "x_train, x_test = x_train / 255.0, x_test / 255.0\n",
        "\n",
        "model.fit(x_train, y_train, epochs=5)\n",
        "model.evaluate(x_test, y_test)"
      ],
      "execution_count": 5,
      "outputs": [
        {
          "output_type": "stream",
          "text": [
            "Downloading data from https://storage.googleapis.com/tensorflow/tf-keras-datasets/mnist.npz\n",
            "11493376/11490434 [==============================] - 0s 0us/step\n",
            "Epoch 1/5\n",
            "60000/60000 [==============================] - 12s 195us/step - loss: 0.2202 - accuracy: 0.9347\n",
            "Epoch 2/5\n",
            "60000/60000 [==============================] - 11s 186us/step - loss: 0.0953 - accuracy: 0.9701\n",
            "Epoch 3/5\n",
            "60000/60000 [==============================] - 11s 188us/step - loss: 0.0683 - accuracy: 0.9792\n",
            "Epoch 4/5\n",
            "60000/60000 [==============================] - 11s 188us/step - loss: 0.0529 - accuracy: 0.9826\n",
            "Epoch 5/5\n",
            "60000/60000 [==============================] - 11s 187us/step - loss: 0.0433 - accuracy: 0.9858\n",
            "10000/10000 [==============================] - 0s 49us/step\n"
          ],
          "name": "stdout"
        },
        {
          "output_type": "execute_result",
          "data": {
            "text/plain": [
              "[0.06937955860908841, 0.9797999858856201]"
            ]
          },
          "metadata": {
            "tags": []
          },
          "execution_count": 5
        }
      ]
    },
    {
      "cell_type": "code",
      "metadata": {
        "id": "ZSNjiPBm7Idc",
        "colab_type": "code",
        "colab": {}
      },
      "source": [
        ""
      ],
      "execution_count": 0,
      "outputs": []
    },
    {
      "cell_type": "code",
      "metadata": {
        "id": "jbO_Cr247Idh",
        "colab_type": "code",
        "colab": {}
      },
      "source": [
        ""
      ],
      "execution_count": 0,
      "outputs": []
    },
    {
      "cell_type": "code",
      "metadata": {
        "id": "7tV5CceB7Idm",
        "colab_type": "code",
        "colab": {}
      },
      "source": [
        ""
      ],
      "execution_count": 0,
      "outputs": []
    }
  ]
}