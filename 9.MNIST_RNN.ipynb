{
  "nbformat": 4,
  "nbformat_minor": 0,
  "metadata": {
    "colab": {
      "name": "Untitled3.ipynb",
      "provenance": []
    },
    "kernelspec": {
      "name": "python3",
      "display_name": "Python 3"
    }
  },
  "cells": [
    {
      "cell_type": "code",
      "metadata": {
        "id": "cjzdALeyyopO",
        "colab_type": "code",
        "colab": {
          "base_uri": "https://localhost:8080/",
          "height": 924
        },
        "outputId": "690bfd05-5af7-45c4-fb7f-fb7b15b2768d"
      },
      "source": [
        "from keras.datasets import mnist\n",
        "from keras.layers import Dense, LSTM\n",
        "from keras.utils import to_categorical\n",
        "from keras.models import Sequential\n",
        "\n",
        "#parameters for LSTM\n",
        "nb_lstm_outputs = 30  \n",
        "nb_time_steps = 28  \n",
        "nb_input_vector = 28 \n",
        "\n",
        "#data preprocessing: tofloat32, normalization, one_hot encoding\n",
        "(x_train, y_train), (x_test, y_test) = mnist.load_data()\n",
        "x_train = x_train.astype('float32')\n",
        "x_test = x_test.astype('float32')\n",
        "x_train /= 255\n",
        "x_test /= 255\n",
        " \n",
        "y_train = to_categorical(y_train, num_classes=10)\n",
        "y_test = to_categorical(y_test, num_classes=10)\n",
        "\n",
        "#build model\n",
        "model = Sequential()\n",
        "model.add(LSTM(units=nb_lstm_outputs, input_shape=(nb_time_steps, nb_input_vector)))\n",
        "model.add(Dense(10, activation='softmax'))\n",
        "\n",
        "#compile:loss, optimizer, metrics\n",
        "model.compile(loss='categorical_crossentropy', optimizer='adam', metrics=['accuracy'])\n",
        "#train: epcoch, batch_size\n",
        "model.fit(x_train, y_train, epochs=20, batch_size=128, verbose=1)\n",
        "\n",
        "model.summary()\n",
        "\n",
        "score = model.evaluate(x_test, y_test,batch_size=128, verbose=1)\n",
        "print(score)"
      ],
      "execution_count": 3,
      "outputs": [
        {
          "output_type": "stream",
          "text": [
            "Epoch 1/20\n",
            "60000/60000 [==============================] - 10s 166us/step - loss: 1.0592 - accuracy: 0.6615\n",
            "Epoch 2/20\n",
            "60000/60000 [==============================] - 10s 158us/step - loss: 0.3947 - accuracy: 0.8826\n",
            "Epoch 3/20\n",
            "60000/60000 [==============================] - 10s 165us/step - loss: 0.2663 - accuracy: 0.9220\n",
            "Epoch 4/20\n",
            "60000/60000 [==============================] - 10s 164us/step - loss: 0.2025 - accuracy: 0.9416\n",
            "Epoch 5/20\n",
            "60000/60000 [==============================] - 10s 164us/step - loss: 0.1688 - accuracy: 0.9509\n",
            "Epoch 6/20\n",
            "60000/60000 [==============================] - 10s 166us/step - loss: 0.1450 - accuracy: 0.9581\n",
            "Epoch 7/20\n",
            "60000/60000 [==============================] - 10s 167us/step - loss: 0.1298 - accuracy: 0.9620\n",
            "Epoch 8/20\n",
            "60000/60000 [==============================] - 10s 168us/step - loss: 0.1172 - accuracy: 0.9658\n",
            "Epoch 9/20\n",
            "60000/60000 [==============================] - 10s 165us/step - loss: 0.1058 - accuracy: 0.9696\n",
            "Epoch 10/20\n",
            "60000/60000 [==============================] - 10s 165us/step - loss: 0.0975 - accuracy: 0.9723\n",
            "Epoch 11/20\n",
            "60000/60000 [==============================] - 10s 166us/step - loss: 0.0927 - accuracy: 0.9723\n",
            "Epoch 12/20\n",
            "60000/60000 [==============================] - 10s 168us/step - loss: 0.0859 - accuracy: 0.9745\n",
            "Epoch 13/20\n",
            "60000/60000 [==============================] - 10s 166us/step - loss: 0.0823 - accuracy: 0.9759\n",
            "Epoch 14/20\n",
            "60000/60000 [==============================] - 10s 164us/step - loss: 0.0768 - accuracy: 0.9772\n",
            "Epoch 15/20\n",
            "60000/60000 [==============================] - 10s 167us/step - loss: 0.0727 - accuracy: 0.9790\n",
            "Epoch 16/20\n",
            "60000/60000 [==============================] - 10s 165us/step - loss: 0.0694 - accuracy: 0.9796\n",
            "Epoch 17/20\n",
            "60000/60000 [==============================] - 10s 165us/step - loss: 0.0656 - accuracy: 0.9801\n",
            "Epoch 18/20\n",
            "60000/60000 [==============================] - 10s 166us/step - loss: 0.0657 - accuracy: 0.9806\n",
            "Epoch 19/20\n",
            "60000/60000 [==============================] - 10s 164us/step - loss: 0.0602 - accuracy: 0.9816\n",
            "Epoch 20/20\n",
            "60000/60000 [==============================] - 10s 165us/step - loss: 0.0589 - accuracy: 0.9823\n",
            "Model: \"sequential_3\"\n",
            "_________________________________________________________________\n",
            "Layer (type)                 Output Shape              Param #   \n",
            "=================================================================\n",
            "lstm_1 (LSTM)                (None, 30)                7080      \n",
            "_________________________________________________________________\n",
            "dense_4 (Dense)              (None, 10)                310       \n",
            "=================================================================\n",
            "Total params: 7,390\n",
            "Trainable params: 7,390\n",
            "Non-trainable params: 0\n",
            "_________________________________________________________________\n",
            "10000/10000 [==============================] - 0s 47us/step\n",
            "[0.07544678409695625, 0.9769999980926514]\n"
          ],
          "name": "stdout"
        }
      ]
    }
  ]
}